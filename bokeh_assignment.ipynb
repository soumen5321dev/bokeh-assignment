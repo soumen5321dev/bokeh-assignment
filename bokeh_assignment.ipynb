{
  "nbformat": 4,
  "nbformat_minor": 0,
  "metadata": {
    "colab": {
      "provenance": []
    },
    "kernelspec": {
      "name": "python3",
      "display_name": "Python 3"
    },
    "language_info": {
      "name": "python"
    }
  },
  "cells": [
    {
      "cell_type": "code",
      "execution_count": 1,
      "metadata": {
        "id": "f_kBT-ruoYq7"
      },
      "outputs": [],
      "source": [
        "#Q1. How can you create a Bokeh plot using Python code?\n",
        "\n",
        "from bokeh.plotting import figure, show\n",
        "from bokeh.io import output_file\n",
        "\n",
        "# Prepare the data\n",
        "x = [1, 2, 3, 4, 5]\n",
        "y = [6, 7, 2, 4, 5]\n",
        "\n",
        "# Set up the output file\n",
        "output_file(\"simple_scatter.html\")\n",
        "\n",
        "# Create a figure\n",
        "p = figure(title=\"Simple Scatter Plot\", x_axis_label='X-Axis', y_axis_label='Y-Axis')\n",
        "\n",
        "# Add a circle renderer with size, color, and alpha\n",
        "p.circle(x, y, size=10, color=\"navy\", alpha=0.5)\n",
        "\n",
        "# Show the results\n",
        "show(p)"
      ]
    },
    {
      "cell_type": "code",
      "source": [
        "# Q2. What are glyphs in Bokeh, and how can you add them to a Bokeh plot? Explain with an example.\n",
        "\n",
        "# Ans: In Bokeh, glyphs are the basic visual building blocks of plots. They represent the visual shapes or\n",
        "# marks on the plot, such as circles, lines, rectangles, and more. Glyphs are added to a Bokeh plot by calling\n",
        "# methods on a figure object, which corresponds to different shapes and visual elements.\n",
        "\n",
        "from bokeh.plotting import figure, show\n",
        "from bokeh.io import output_file\n",
        "\n",
        "# Prepare the data\n",
        "x = [1, 2, 3, 4, 5]\n",
        "y1 = [6, 7, 2, 4, 5]\n",
        "y2 = [4, 5, 5, 7, 2]\n",
        "\n",
        "# Set up the output file\n",
        "output_file(\"multiple_glyphs.html\")\n",
        "\n",
        "# Create a figure\n",
        "p = figure(title=\"Multiple Glyphs Example\", x_axis_label='X-Axis', y_axis_label='Y-Axis')\n",
        "\n",
        "# Add circle glyphs\n",
        "p.circle(x, y1, size=10, color=\"navy\", alpha=0.5, legend_label=\"Circle Glyphs\")\n",
        "\n",
        "# Add triangle glyphs\n",
        "p.triangle(x, y2, size=10, color=\"firebrick\", alpha=0.5, legend_label=\"Triangle Glyphs\")\n",
        "\n",
        "# Show the results\n",
        "show(p)"
      ],
      "metadata": {
        "id": "_0ixoAtypdbN"
      },
      "execution_count": 3,
      "outputs": []
    },
    {
      "cell_type": "code",
      "source": [
        "#Q3. How can you customize the appearance of a Bokeh plot, including the axes, title, and legend?\n",
        "\n",
        "from bokeh.plotting import figure, show\n",
        "from bokeh.io import output_file\n",
        "from bokeh.models import Title\n",
        "\n",
        "# Prepare the data\n",
        "x = [1, 2, 3, 4, 5]\n",
        "y1 = [6, 7, 2, 4, 5]\n",
        "y2 = [4, 5, 5, 7, 2]\n",
        "\n",
        "# Set up the output file\n",
        "output_file(\"customized_plot.html\")\n",
        "\n",
        "# Create a figure\n",
        "p = figure(title=\"Customized Bokeh Plot\", x_axis_label='X-Axis', y_axis_label='Y-Axis')\n",
        "\n",
        "# Add circle glyphs\n",
        "p.circle(x, y1, size=10, color=\"navy\", alpha=0.5, legend_label=\"Circle Glyphs\")\n",
        "\n",
        "show(p)"
      ],
      "metadata": {
        "id": "30nCb9b2vPjm"
      },
      "execution_count": 4,
      "outputs": []
    },
    {
      "cell_type": "code",
      "source": [
        "# Q4. What is a Bokeh server, and how can you use it to create interactive plots that can be updated in\n",
        "# real time?\n",
        "\n",
        "# Ans: A Bokeh server allows you to create interactive plots that can be updated in real time, enabling complex\n",
        "# visualizations that respond to user inputs or other events. The Bokeh server provides the ability to connect\n",
        "# Bokeh plots with real-time data sources or user interactions, facilitating the creation of dynamic web applications.\n",
        "\n",
        "from bokeh.io import curdoc\n",
        "from bokeh.models import ColumnDataSource\n",
        "from bokeh.plotting import figure\n",
        "from bokeh.layouts import column\n",
        "from bokeh.models.widgets import Slider\n",
        "import numpy as np\n",
        "\n",
        "# Prepare the data\n",
        "x = np.linspace(0, 10, 100)\n",
        "y = np.sin(x)\n",
        "source = ColumnDataSource(data=dict(x=x, y=y))\n",
        "\n",
        "# Create a figure\n",
        "plot = figure(title=\"Interactive Sine Wave\", x_axis_label='x', y_axis_label='y')\n",
        "plot.line('x', 'y', source=source, line_width=2, line_color=\"blue\")\n",
        "\n",
        "# Create a slider widget\n",
        "slider = Slider(start=0.1, end=10, value=1, step=0.1, title=\"Frequency\")\n",
        "\n",
        "# Define a callback function\n",
        "def update_data(attrname, old, new):\n",
        "    frequency = slider.value\n",
        "    y = np.sin(frequency * x)\n",
        "    source.data = dict(x=x, y=y)\n",
        "\n",
        "# Attach the callback to the slider value change\n",
        "slider.on_change('value', update_data)\n",
        "\n",
        "# Arrange the plot and widget in a layout\n",
        "layout = column(slider, plot)\n",
        "\n",
        "# Add the layout to the current document\n",
        "curdoc().add_root(layout)\n",
        "curdoc().title = \"Interactive Sine Wave Example\""
      ],
      "metadata": {
        "id": "QpMktwlCwXeo"
      },
      "execution_count": 5,
      "outputs": []
    },
    {
      "cell_type": "code",
      "source": [
        "# Q5. How can you embed a Bokeh plot into a web page or dashboard using Flask or Django?\n",
        "\n",
        "# Ans: Embedding a Bokeh plot into a web page or dashboard using Flask or Django involves generating\n",
        "# the plot in a Bokeh script, then embedding the plot into an HTML template.\n",
        "\n",
        "# Implement the Flask Application:\n",
        "# app.py:\n",
        "\n",
        "# from flask import Flask, render_template\n",
        "# from bokeh.embed import components\n",
        "# from bokeh.plotting import figure\n",
        "# from bokeh.resources import CDN\n",
        "\n",
        "# app = Flask(__name__)\n",
        "\n",
        "# @app.route('/')\n",
        "# def index():\n",
        "#     # Create a Bokeh plot\n",
        "#     plot = figure(title=\"Interactive Bokeh Plot\", x_axis_label='x', y_axis_label='y')\n",
        "#     plot.line([1, 2, 3, 4, 5], [6, 7, 2, 4, 5], line_width=2)\n",
        "\n",
        "#     # Embed plot into HTML via Flask Render\n",
        "#     script, div = components(plot)\n",
        "#     return render_template(\"index.html\", script=script, div=div, cdn_js=CDN.js_files, cdn_css=CDN.css_files)\n",
        "\n",
        "# if __name__ == '__main__':\n",
        "#     app.run(debug=True)\n",
        "\n",
        "\n",
        "\n",
        "# Create the HTML Template:\n",
        "# templates/index.html:\n",
        "\n",
        "# <!DOCTYPE html>\n",
        "# <html lang=\"en\">\n",
        "# <head>\n",
        "#     <meta charset=\"UTF-8\">\n",
        "#     <title>Bokeh Plot</title>\n",
        "#     {% for css_file in cdn_css %}\n",
        "#     <link rel=\"stylesheet\" href=\"{{ css_file }}\">\n",
        "#     {% endfor %}\n",
        "# </head>\n",
        "# <body>\n",
        "#     <h1>My Bokeh Plot</h1>\n",
        "#     <div>{{ div | safe }}</div>\n",
        "#     {{ script | safe }}\n",
        "#     {% for js_file in cdn_js %}\n",
        "#     <script src=\"{{ js_file }}\"></script>\n",
        "#     {% endfor %}\n",
        "# </body>\n",
        "# </html>"
      ],
      "metadata": {
        "id": "aAieueNBxUVe"
      },
      "execution_count": 6,
      "outputs": []
    },
    {
      "cell_type": "code",
      "source": [],
      "metadata": {
        "id": "vf4YOKft13Wa"
      },
      "execution_count": null,
      "outputs": []
    }
  ]
}